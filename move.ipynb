{
 "cells": [
  {
   "cell_type": "code",
   "execution_count": null,
   "metadata": {},
   "outputs": [],
   "source": [
    "import os\n",
    "\n",
    "path = \"data/captchas_20230813\"\n",
    "filename = [f for f in os.listdir(path) if f.endswith('.png')]\n",
    "# move files to \"data/藍新金流_20230813\"\n",
    "import shutil\n",
    "\n",
    "n = 0\n",
    "for f in filename:\n",
    "    shutil.move(path + \"/\" + f, \"data/藍新金流_20230813/\" + f)\n",
    "    n+=1\n",
    "    if n % 1000 == 0:\n",
    "        print(\"Moved %d files.\" % n)  # noqa: T201"
   ]
  },
  {
   "cell_type": "code",
   "execution_count": null,
   "metadata": {},
   "outputs": [],
   "source": []
  }
 ],
 "metadata": {
  "kernelspec": {
   "display_name": "torch2",
   "language": "python",
   "name": "python3"
  },
  "language_info": {
   "codemirror_mode": {
    "name": "ipython",
    "version": 3
   },
   "file_extension": ".py",
   "mimetype": "text/x-python",
   "name": "python",
   "nbconvert_exporter": "python",
   "pygments_lexer": "ipython3",
   "version": "3.9.15"
  }
 },
 "nbformat": 4,
 "nbformat_minor": 2
}
